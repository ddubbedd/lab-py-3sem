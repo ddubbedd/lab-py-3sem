{
 "cells": [
  {
   "cell_type": "code",
   "execution_count": 46,
   "metadata": {},
   "outputs": [],
   "source": [
    "import pandas as pd\n",
    "import numpy as np\n",
    "import matplotlib.pyplot as plt\n",
    "import os\n"
   ]
  },
  {
   "cell_type": "code",
   "execution_count": 47,
   "metadata": {},
   "outputs": [],
   "source": [
    "def changeIndex(df: pd.DataFrame) -> pd.DataFrame:\n",
    "    \"\"\"updating indexes DataFrame\"\"\"\n",
    "    df.index = [i for i in range(0, int(df.shape[0]))]\n",
    "    return df"
   ]
  },
  {
   "cell_type": "code",
   "execution_count": 48,
   "metadata": {},
   "outputs": [
    {
     "name": "stdout",
     "output_type": "stream",
     "text": [
      "      2008-01-10   -20  765   В2м/с\n",
      "0     2008-01-11 -20.0  764       Ш\n",
      "1     2008-01-12 -20.0  762   З2м/с\n",
      "2     2008-01-13  -9.0  756  ЮЗ3м/с\n",
      "3     2008-01-14  -6.0  751  ЮЗ2м/с\n",
      "4     2008-01-15  -1.0  753   З1м/с\n",
      "...          ...   ...  ...     ...\n",
      "5438  2022-12-13  -6.0  760   В3м/с\n",
      "5439  2022-12-14  -5.0  756   В3м/с\n",
      "5440  2022-12-15  -5.0  760   В1м/с\n",
      "5441  2022-12-16  -4.0  758   В1м/с\n",
      "5442  2022-12-17  -3.0  759   В2м/с\n",
      "\n",
      "[5443 rows x 4 columns]\n"
     ]
    }
   ],
   "source": [
    "\n",
    "path: str=os.path.join(\"/Users/aleksandragorbuncova/PycharmProjects/lab-py-3sem/lab3/datasetAll/dataset.csv\")\n",
    "\n",
    "df = pd.read_csv(path)\n",
    "print(df)\n"
   ]
  },
  {
   "cell_type": "code",
   "execution_count": 49,
   "metadata": {},
   "outputs": [
    {
     "name": "stdout",
     "output_type": "stream",
     "text": [
      "            data  temp pressure    wind\n",
      "0     2008-01-11 -20.0      764       Ш\n",
      "1     2008-01-12 -20.0      762   З2м/с\n",
      "2     2008-01-13  -9.0      756  ЮЗ3м/с\n",
      "3     2008-01-14  -6.0      751  ЮЗ2м/с\n",
      "4     2008-01-15  -1.0      753   З1м/с\n",
      "...          ...   ...      ...     ...\n",
      "5438  2022-12-13  -6.0      760   В3м/с\n",
      "5439  2022-12-14  -5.0      756   В3м/с\n",
      "5440  2022-12-15  -5.0      760   В1м/с\n",
      "5441  2022-12-16  -4.0      758   В1м/с\n",
      "5442  2022-12-17  -3.0      759   В2м/с\n",
      "\n",
      "[5443 rows x 4 columns]\n"
     ]
    }
   ],
   "source": [
    "df.columns = ['data', 'temp', 'pressure', 'wind']  # 2\n",
    "print(df)"
   ]
  },
  {
   "cell_type": "code",
   "execution_count": 50,
   "metadata": {
    "pycharm": {
     "name": "#%%\n"
    }
   },
   "outputs": [
    {
     "name": "stdout",
     "output_type": "stream",
     "text": [
      "            data  temp pressure    wind\n",
      "0     2008-01-11 -20.0      764       Ш\n",
      "1     2008-01-12 -20.0      762   З2м/с\n",
      "2     2008-01-13  -9.0      756  ЮЗ3м/с\n",
      "3     2008-01-14  -6.0      751  ЮЗ2м/с\n",
      "4     2008-01-15  -1.0      753   З1м/с\n",
      "...          ...   ...      ...     ...\n",
      "5438  2022-12-13  -6.0      760   В3м/с\n",
      "5439  2022-12-14  -5.0      756   В3м/с\n",
      "5440  2022-12-15  -5.0      760   В1м/с\n",
      "5441  2022-12-16  -4.0      758   В1м/с\n",
      "5442  2022-12-17  -3.0      759   В2м/с\n",
      "\n",
      "[5434 rows x 4 columns]\n"
     ]
    }
   ],
   "source": [
    "#3\n",
    "df.replace(\" \", float(\"NaN\"), inplace=True)\n",
    "df = df.dropna()\n",
    "print(df)"
   ]
  }
 ],
 "metadata": {
  "kernelspec": {
   "display_name": "Python 3.10.5 64-bit",
   "language": "python",
   "name": "python3"
  },
  "language_info": {
   "codemirror_mode": {
    "name": "ipython",
    "version": 3
   },
   "file_extension": ".py",
   "mimetype": "text/x-python",
   "name": "python",
   "nbconvert_exporter": "python",
   "pygments_lexer": "ipython3",
   "version": "3.10.5"
  },
  "orig_nbformat": 4,
  "vscode": {
   "interpreter": {
    "hash": "e9dbe3f95919c5c261a165e977916c35636caa884f033d5c7eaeced6efc7d3d7"
   }
  }
 },
 "nbformat": 4,
 "nbformat_minor": 2
}