{
 "nbformat": 4,
 "nbformat_minor": 0,
 "metadata": {
  "colab": {
   "provenance": [],
   "authorship_tag": "ABX9TyN0ao7jgROiLukrAH6iXiNG"
  },
  "kernelspec": {
   "name": "python3",
   "display_name": "Python 3"
  },
  "language_info": {
   "name": "python"
  },
  "accelerator": "GPU",
  "gpuClass": "standard"
 },
 "cells": [
  {
   "cell_type": "code",
   "execution_count": 1,
   "outputs": [],
   "source": [
    "import io\n",
    "import torch\n",
    "import torch.nn as nn\n",
    "import pandas as pd\n",
    "import numpy as np\n",
    "import matplotlib.pyplot as plt\n",
    "from datetime import datetime\n",
    "\n",
    "device = \"cpu\""
   ],
   "metadata": {
    "collapsed": false,
    "pycharm": {
     "name": "#%%\n"
    }
   }
  },
  {
   "cell_type": "code",
   "execution_count": 2,
   "outputs": [
    {
     "name": "stdout",
     "output_type": "stream",
     "text": [
      "        Datatime  temp_day\n",
      "0     2008-01-11       -20\n",
      "1     2008-01-12       -20\n",
      "2     2008-01-13        -9\n",
      "3     2008-01-14        -6\n",
      "4     2008-01-15        -1\n",
      "...          ...       ...\n",
      "5438  2022-12-13        -6\n",
      "5439  2022-12-14        -5\n",
      "5440  2022-12-15        -5\n",
      "5441  2022-12-16        -4\n",
      "5442  2022-12-17        -3\n",
      "\n",
      "[5434 rows x 2 columns]\n"
     ]
    }
   ],
   "source": [
    "\n",
    "df = pd.read_csv('/Users/aleksandragorbuncova/PycharmProjects/lab-py-3sem/lab3/datasetAll/dataset.csv')\n",
    "\n",
    "df.columns = ['Datatime', 'temp', 'wind', 'pressure']\n",
    "df = df.drop(columns = ['wind', 'pressure'])\n",
    "df.replace(\" \", float(\"NaN\"), inplace=True)                         # 3\n",
    "df = df.dropna()\n",
    "\n",
    "df[['temp']] = df[['temp']].astype(int)  # 4\n",
    "df_save = df\n",
    "print(df)"
   ],
   "metadata": {
    "collapsed": false,
    "pycharm": {
     "name": "#%%\n"
    }
   }
  },
  {
   "cell_type": "code",
   "execution_count": null,
   "outputs": [],
   "source": [
    "import matplotlib.pyplot as plt\n",
    "fig1 = plt.figure(figsize=(10, 5))\n",
    "plt.title(\"Temperature graph in Celsius\")    # Temperature graph in Celsius\n",
    "plt.xlabel(\"Day\")\n",
    "plt.ylabel(\"Temp\")\n",
    "plt.plot(df['temp'], color=\"green\")\n",
    "plt.legend([\"Temp in day\"])\n",
    "plt.show()"
   ],
   "metadata": {
    "collapsed": false,
    "pycharm": {
     "name": "#%%\n"
    }
   }
  },
  {
   "cell_type": "markdown",
   "source": [],
   "metadata": {
    "collapsed": false
   }
  },
  {
   "cell_type": "code",
   "execution_count": null,
   "outputs": [],
   "source": [
    "import plotly.graph_objs as go\n",
    "from plotly.offline import iplot\n",
    "\n",
    "def plot_dataset(df: pd.DataFrame, title: str) -> None:\n",
    "    \"\"\"the function takes a DataFrame and shows a graph\"\"\"\n",
    "    data = []\n",
    "\n",
    "    value = go.Scatter(\n",
    "        x=df.index,\n",
    "        y=df.value,\n",
    "        mode=\"lines\",\n",
    "        name=\"values\",\n",
    "        marker=dict(),\n",
    "        text=df.index,\n",
    "        line=dict(color=\"rgba(0,0,0, 0.3)\"),\n",
    "    )\n",
    "    data.append(value)\n",
    "\n",
    "    layout = dict(\n",
    "        title=title,\n",
    "        xaxis=dict(title=\"Date\", ticklen=5, zeroline=False),\n",
    "        yaxis=dict(title=\"Value\", ticklen=5, zeroline=False),\n",
    "    )\n",
    "\n",
    "    fig = dict(data=data, layout=layout)\n",
    "    iplot(fig)"
   ],
   "metadata": {
    "collapsed": false,
    "pycharm": {
     "name": "#%%\n"
    }
   }
  },
  {
   "cell_type": "code",
   "execution_count": null,
   "outputs": [],
   "source": [
    "df = df.set_index(['Datatime'])\n",
    "df = df.rename(columns={'temp': 'value'})\n",
    "\n",
    "df.index = pd.to_datetime(df.index)\n",
    "if not df.index.is_monotonic_increasing:\n",
    "    df = df.sort_index()\n",
    "\n",
    "plot_dataset(df, title='Samara region: estimated temperature value in Degrees Celsius (°C)')"
   ],
   "metadata": {
    "collapsed": false,
    "pycharm": {
     "name": "#%%\n"
    }
   }
  },
  {
   "cell_type": "code",
   "execution_count": null,
   "outputs": [],
   "source": [
    "def generate_time_lags(df: pd.DataFrame, n_lags: int) -> pd.DataFrame:\n",
    "    \"\"\"the function of generating observations with a time delay\"\"\"\n",
    "    df_n = df.copy()\n",
    "    for n in range(1, n_lags + 1):\n",
    "        df_n[f\"lag{n}\"] = df_n[\"value\"].shift(n) # method to shift value in column\n",
    "    df_n = df_n.iloc[n_lags:]\n",
    "    return df_n\n",
    "\n",
    "input_dim = 100\n",
    "\n",
    "df_timelags = generate_time_lags(df, input_dim)\n",
    "print(df_timelags)"
   ],
   "metadata": {
    "collapsed": false,
    "pycharm": {
     "name": "#%%\n"
    }
   }
  },
  {
   "cell_type": "code",
   "execution_count": null,
   "outputs": [],
   "source": [
    "from sklearn.model_selection import train_test_split\n",
    "\n",
    "def feature_label_split(df: pd.DataFrame, target_col: str):\n",
    "    \"\"\"separtion into x and y\"\"\"\n",
    "    y = df[[target_col]]\n",
    "    X = df.drop(columns=[target_col])\n",
    "    return X, y\n",
    "\n",
    "def train_val_test_split(df: pd.DataFrame, target_col: str, test_ratio: float) -> pd.DataFrame:\n",
    "    \"\"\"separtion into test, val, test\"\"\"\n",
    "\n",
    "    val_ratio = test_ratio / (1 - test_ratio)\n",
    "\n",
    "    X, y = feature_label_split(df, target_col)\n",
    "\n",
    "    X_train, X_test, y_train, y_test = train_test_split(X, y, test_size=test_ratio, shuffle=False)\n",
    "    X_train, X_val, y_train, y_val = train_test_split(X_train, y_train, test_size=val_ratio, shuffle=False)\n",
    "\n",
    "    return X_train, X_val, X_test, y_train, y_val, y_test\n",
    "\n",
    "X_train, X_val, X_test, y_train, y_val, y_test = train_val_test_split(df_timelags, 'value', 0.1)\n",
    "\n",
    "print(f'Процент обучащей выборки: {X_train[\"lag1\"].count() / df_timelags[\"lag1\"].count()*100}%')\n",
    "print(f'Процент тестовой выборки: {X_test[\"lag1\"].count() / df_timelags[\"lag1\"].count()*100}%')\n",
    "print(f'Процент валидационной выборки: {X_val[\"lag1\"].count() / df_timelags[\"lag1\"].count()*100}%')"
   ],
   "metadata": {
    "collapsed": false,
    "pycharm": {
     "name": "#%%\n"
    }
   }
  }
 ]
}