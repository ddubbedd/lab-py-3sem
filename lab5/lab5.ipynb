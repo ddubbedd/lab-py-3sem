{
 "nbformat": 4,
 "nbformat_minor": 0,
 "metadata": {
  "colab": {
   "provenance": [],
   "authorship_tag": "ABX9TyN0ao7jgROiLukrAH6iXiNG"
  },
  "kernelspec": {
   "name": "python3",
   "display_name": "Python 3"
  },
  "language_info": {
   "name": "python"
  },
  "accelerator": "GPU",
  "gpuClass": "standard"
 },
 "cells": [
  {
   "cell_type": "code",
   "execution_count": 1,
   "outputs": [],
   "source": [
    "import io\n",
    "import torch\n",
    "import torch.nn as nn\n",
    "import pandas as pd\n",
    "import numpy as np\n",
    "import matplotlib.pyplot as plt\n",
    "from datetime import datetime\n",
    "\n",
    "device = \"cpu\""
   ],
   "metadata": {
    "collapsed": false,
    "pycharm": {
     "name": "#%%\n"
    }
   }
  },
  {
   "cell_type": "code",
   "execution_count": 2,
   "outputs": [
    {
     "name": "stdout",
     "output_type": "stream",
     "text": [
      "        Datatime  temp_day\n",
      "0     2008-01-11       -20\n",
      "1     2008-01-12       -20\n",
      "2     2008-01-13        -9\n",
      "3     2008-01-14        -6\n",
      "4     2008-01-15        -1\n",
      "...          ...       ...\n",
      "5438  2022-12-13        -6\n",
      "5439  2022-12-14        -5\n",
      "5440  2022-12-15        -5\n",
      "5441  2022-12-16        -4\n",
      "5442  2022-12-17        -3\n",
      "\n",
      "[5434 rows x 2 columns]\n"
     ]
    }
   ],
   "source": [
    "\n",
    "df = pd.read_csv('/Users/aleksandragorbuncova/PycharmProjects/lab-py-3sem/lab3/datasetAll/dataset.csv')\n",
    "\n",
    "df.columns = ['Datatime', 'temp_day', 'wind', 'pressure_day']\n",
    "df = df.drop(columns = ['wind', 'pressure_day'])\n",
    "\n",
    "nan_value = float(\"NaN\")                             # 3\n",
    "df.replace(\" \", nan_value, inplace=True)\n",
    "df = df.dropna()\n",
    "\n",
    "df[['temp_day']] = df[['temp_day']].astype(int)  # 4\n",
    "df_save = df\n",
    "print(df)"
   ],
   "metadata": {
    "collapsed": false,
    "pycharm": {
     "name": "#%%\n"
    }
   }
  }
 ]
}